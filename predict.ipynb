{
 "cells": [
  {
   "cell_type": "code",
   "execution_count": 1,
   "metadata": {},
   "outputs": [],
   "source": [
    "from keras.datasets import mnist"
   ]
  },
  {
   "cell_type": "code",
   "execution_count": 2,
   "metadata": {},
   "outputs": [
    {
     "name": "stdout",
     "output_type": "stream",
     "text": [
      "train image: 60000\n",
      "test image: 10000\n"
     ]
    }
   ],
   "source": [
    "(X_train, y_train), (X_test, y_test) = mnist.load_data()\n",
    "print(\"train image:\", X_train.shape[0])\n",
    "print(\"test image:\", X_test.shape[0])"
   ]
  },
  {
   "cell_type": "code",
   "execution_count": 10,
   "metadata": {},
   "outputs": [
    {
     "data": {
      "image/png": "[encoded data removed]",
      "text/plain": [
       "<Figure size 432x288 with 1 Axes>"
      ]
     },
     "metadata": {
      "needs_background": "light"
     },
     "output_type": "display_data"
    },
    {
     "name": "stdout",
     "output_type": "stream",
     "text": [
      "0 0 0 0 0 0 0 0 0 0 0 0 0 0 0 0 0 0 0 0 0 0 0 0 0 0 0 0 \n",
      "0 0 0 0 0 0 0 0 0 0 0 0 0 0 0 0 0 0 0 0 0 0 0 0 0 0 0 0 \n",
      "0 0 0 0 0 0 0 0 0 0 0 0 0 0 0 0 0 0 0 0 0 0 0 0 0 0 0 0 \n",
      "0 0 0 0 0 0 0 0 0 0 0 0 0 0 0 0 0 0 0 0 0 0 0 0 0 0 0 0 \n",
      "0 0 0 0 0 0 0 0 0 0 0 0 0 0 0 0 0 0 0 0 0 0 0 0 0 0 0 0 \n",
      "0 0 0 0 0 0 0 0 0 0 0 0 3 18 18 18 126 136 175 26 166 255 247 127 0 0 0 0 \n",
      "0 0 0 0 0 0 0 0 30 36 94 154 170 253 253 253 253 253 225 172 253 242 195 64 0 0 0 0 \n",
      "0 0 0 0 0 0 0 49 238 253 253 253 253 253 253 253 253 251 93 82 82 56 39 0 0 0 0 0 \n",
      "0 0 0 0 0 0 0 18 219 253 253 253 253 253 198 182 247 241 0 0 0 0 0 0 0 0 0 0 \n",
      "0 0 0 0 0 0 0 0 80 156 107 253 253 205 11 0 43 154 0 0 0 0 0 0 0 0 0 0 \n",
      "0 0 0 0 0 0 0 0 0 14 1 154 253 90 0 0 0 0 0 0 0 0 0 0 0 0 0 0 \n",
      "0 0 0 0 0 0 0 0 0 0 0 139 253 190 2 0 0 0 0 0 0 0 0 0 0 0 0 0 \n",
      "0 0 0 0 0 0 0 0 0 0 0 11 190 253 70 0 0 0 0 0 0 0 0 0 0 0 0 0 \n",
      "0 0 0 0 0 0 0 0 0 0 0 0 35 241 225 160 108 1 0 0 0 0 0 0 0 0 0 0 \n",
      "0 0 0 0 0 0 0 0 0 0 0 0 0 81 240 253 253 119 25 0 0 0 0 0 0 0 0 0 \n",
      "0 0 0 0 0 0 0 0 0 0 0 0 0 0 45 186 253 253 150 27 0 0 0 0 0 0 0 0 \n",
      "0 0 0 0 0 0 0 0 0 0 0 0 0 0 0 16 93 252 253 187 0 0 0 0 0 0 0 0 \n",
      "0 0 0 0 0 0 0 0 0 0 0 0 0 0 0 0 0 249 253 249 64 0 0 0 0 0 0 0 \n",
      "0 0 0 0 0 0 0 0 0 0 0 0 0 0 46 130 183 253 253 207 2 0 0 0 0 0 0 0 \n",
      "0 0 0 0 0 0 0 0 0 0 0 0 39 148 229 253 253 253 250 182 0 0 0 0 0 0 0 0 \n",
      "0 0 0 0 0 0 0 0 0 0 24 114 221 253 253 253 253 201 78 0 0 0 0 0 0 0 0 0 \n",
      "0 0 0 0 0 0 0 0 23 66 213 253 253 253 253 198 81 2 0 0 0 0 0 0 0 0 0 0 \n",
      "0 0 0 0 0 0 18 171 219 253 253 253 253 195 80 9 0 0 0 0 0 0 0 0 0 0 0 0 \n",
      "0 0 0 0 55 172 226 253 253 253 253 244 133 11 0 0 0 0 0 0 0 0 0 0 0 0 0 0 \n",
      "0 0 0 0 136 253 253 253 212 135 132 16 0 0 0 0 0 0 0 0 0 0 0 0 0 0 0 0 \n",
      "0 0 0 0 0 0 0 0 0 0 0 0 0 0 0 0 0 0 0 0 0 0 0 0 0 0 0 0 \n",
      "0 0 0 0 0 0 0 0 0 0 0 0 0 0 0 0 0 0 0 0 0 0 0 0 0 0 0 0 \n",
      "0 0 0 0 0 0 0 0 0 0 0 0 0 0 0 0 0 0 0 0 0 0 0 0 0 0 0 0 \n"
     ]
    }
   ],
   "source": [
    "import matplotlib.pyplot as plt\n",
    "import sys\n",
    "\n",
    "plt.imshow(X_train[0], cmap=\"Greys\")\n",
    "plt.show()\n",
    "\n",
    "for x in X_train[0]:\n",
    "    for i in x:\n",
    "        sys.stdout.write(\"%d \" % i)\n",
    "    sys.stdout.write(\"\\n\")"
   ]
  },
  {
   "cell_type": "code",
   "execution_count": 22,
   "metadata": {
    "scrolled": true
   },
   "outputs": [
    {
     "name": "stdout",
     "output_type": "stream",
     "text": [
      "Epoch 1/30\n",
      "300/300 - 1s - loss: 0.3043 - accuracy: 0.9152 - val_loss: 0.1529 - val_accuracy: 0.9575\n",
      "Epoch 2/30\n",
      "300/300 - 1s - loss: 0.1262 - accuracy: 0.9635 - val_loss: 0.1053 - val_accuracy: 0.9688\n",
      "Epoch 3/30\n",
      "300/300 - 1s - loss: 0.0826 - accuracy: 0.9761 - val_loss: 0.0812 - val_accuracy: 0.9750\n",
      "Epoch 4/30\n",
      "300/300 - 1s - loss: 0.0597 - accuracy: 0.9828 - val_loss: 0.0753 - val_accuracy: 0.9767\n",
      "Epoch 5/30\n",
      "300/300 - 1s - loss: 0.0464 - accuracy: 0.9863 - val_loss: 0.0680 - val_accuracy: 0.9795\n",
      "Epoch 6/30\n",
      "300/300 - 1s - loss: 0.0350 - accuracy: 0.9899 - val_loss: 0.0684 - val_accuracy: 0.9785\n",
      "Epoch 7/30\n",
      "300/300 - 1s - loss: 0.0263 - accuracy: 0.9933 - val_loss: 0.0612 - val_accuracy: 0.9818\n",
      "Epoch 8/30\n",
      "300/300 - 1s - loss: 0.0205 - accuracy: 0.9949 - val_loss: 0.0637 - val_accuracy: 0.9806\n",
      "Epoch 9/30\n",
      "300/300 - 1s - loss: 0.0149 - accuracy: 0.9966 - val_loss: 0.0609 - val_accuracy: 0.9810\n",
      "Epoch 10/30\n",
      "300/300 - 1s - loss: 0.0127 - accuracy: 0.9972 - val_loss: 0.0636 - val_accuracy: 0.9811\n",
      "Epoch 11/30\n",
      "300/300 - 1s - loss: 0.0099 - accuracy: 0.9981 - val_loss: 0.0644 - val_accuracy: 0.9800\n",
      "Epoch 12/30\n",
      "300/300 - 1s - loss: 0.0073 - accuracy: 0.9988 - val_loss: 0.0640 - val_accuracy: 0.9820\n",
      "Epoch 13/30\n",
      "300/300 - 1s - loss: 0.0057 - accuracy: 0.9993 - val_loss: 0.0645 - val_accuracy: 0.9827\n",
      "Epoch 14/30\n",
      "300/300 - 1s - loss: 0.0041 - accuracy: 0.9997 - val_loss: 0.0619 - val_accuracy: 0.9827\n",
      "Epoch 15/30\n",
      "300/300 - 1s - loss: 0.0030 - accuracy: 0.9998 - val_loss: 0.0593 - val_accuracy: 0.9845\n",
      "Epoch 16/30\n",
      "300/300 - 1s - loss: 0.0034 - accuracy: 0.9995 - val_loss: 0.0701 - val_accuracy: 0.9801\n",
      "Epoch 17/30\n",
      "300/300 - 1s - loss: 0.0085 - accuracy: 0.9974 - val_loss: 0.0709 - val_accuracy: 0.9811\n",
      "Epoch 18/30\n",
      "300/300 - 1s - loss: 0.0089 - accuracy: 0.9972 - val_loss: 0.0768 - val_accuracy: 0.9779\n",
      "Epoch 19/30\n",
      "300/300 - 1s - loss: 0.0036 - accuracy: 0.9993 - val_loss: 0.0672 - val_accuracy: 0.9821\n",
      "Epoch 20/30\n",
      "300/300 - 1s - loss: 0.0012 - accuracy: 1.0000 - val_loss: 0.0663 - val_accuracy: 0.9831\n",
      "Epoch 21/30\n",
      "300/300 - 1s - loss: 6.8393e-04 - accuracy: 1.0000 - val_loss: 0.0640 - val_accuracy: 0.9836\n",
      "Epoch 22/30\n",
      "300/300 - 1s - loss: 5.4672e-04 - accuracy: 1.0000 - val_loss: 0.0643 - val_accuracy: 0.9834\n",
      "Epoch 23/30\n",
      "300/300 - 1s - loss: 4.0721e-04 - accuracy: 1.0000 - val_loss: 0.0655 - val_accuracy: 0.9833\n",
      "Epoch 24/30\n",
      "300/300 - 1s - loss: 3.4614e-04 - accuracy: 1.0000 - val_loss: 0.0662 - val_accuracy: 0.9835\n",
      "Epoch 25/30\n",
      "300/300 - 1s - loss: 3.0535e-04 - accuracy: 1.0000 - val_loss: 0.0668 - val_accuracy: 0.9837\n",
      "Epoch 26/30\n",
      "300/300 - 1s - loss: 2.6597e-04 - accuracy: 1.0000 - val_loss: 0.0673 - val_accuracy: 0.9837\n",
      "Epoch 27/30\n",
      "300/300 - 1s - loss: 2.3754e-04 - accuracy: 1.0000 - val_loss: 0.0687 - val_accuracy: 0.9840\n",
      "Epoch 28/30\n",
      "300/300 - 1s - loss: 2.1537e-04 - accuracy: 1.0000 - val_loss: 0.0687 - val_accuracy: 0.9839\n",
      "Epoch 29/30\n",
      "300/300 - 1s - loss: 1.9249e-04 - accuracy: 1.0000 - val_loss: 0.0688 - val_accuracy: 0.9836\n",
      "Epoch 30/30\n",
      "300/300 - 1s - loss: 1.6545e-04 - accuracy: 1.0000 - val_loss: 0.0699 - val_accuracy: 0.9837\n",
      "1875/1875 [==============================] - 2s 921us/step - loss: 1.3913e-04 - accuracy: 1.0000\n",
      "\n",
      "accuracy: 1.0000\n",
      "313/313 [==============================] - 0s 754us/step - loss: 0.0699 - accuracy: 0.9837\n",
      "\n",
      "val_accuracy: 0.9837\n"
     ]
    }
   ],
   "source": [
    "from keras.utils import np_utils\n",
    "from keras.models import Sequential\n",
    "from keras.layers import Dense\n",
    "\n",
    "import numpy\n",
    "import tensorflow as tf\n",
    "\n",
    "from keras.datasets import mnist\n",
    "\n",
    "# 실행 시마다 같은 결과값 도출을 위한 시드 설정\n",
    "numpy.random.seed(0)\n",
    "tf.random.set_seed(0)\n",
    "\n",
    "(X_train, y_train), (X_test, y_test) = mnist.load_data()\n",
    "\n",
    "X_train = X_train.reshape(X_train.shape[0], 784).astype('float32') / 255\n",
    "X_test = X_test.reshape(X_test.shape[0], 784).astype('float32') / 255\n",
    "\n",
    "y_train = np_utils.to_categorical(y_train, 10)\n",
    "y_test = np_utils.to_categorical(y_test, 10)\n",
    "\n",
    "# 2개의 은닉층, 512개의 뉴런 연결, 10개 클래스 출력 뉴런, 784개 픽셀 input 값, relu와 softmax 활성화 함수 이용\n",
    "model = Sequential()\n",
    "model.add(Dense(512, input_dim=784, activation='relu'))\n",
    "model.add(Dense(10, activation='softmax'))\n",
    "\n",
    "# 모델 구조 설정\n",
    "model.compile(loss='categorical_crossentropy', optimizer='adam',\n",
    "              metrics=['accuracy'])\n",
    "\n",
    "# 모델 학습 테스트셋으로 검증, 200개씩 30번 학습\n",
    "model.fit(X_train, Y_train, validation_data=(X_test, Y_test), epochs=30, batch_size=200, verbose=2)\n",
    "\n",
    "# 학습 정확도, 검증 정확도 출력\n",
    "print('\\naccuracy: {:.4f}'.format(model.evaluate(X_train, Y_train)[1]))\n",
    "print('\\nval_accuracy: {:.4f}'.format(model.evaluate(X_test, Y_test)[1]))\n",
    "\n",
    "# 모델 저장\n",
    "model.save('mnist_dl.h5')"
   ]
  },
  {
   "cell_type": "code",
   "execution_count": 25,
   "metadata": {},
   "outputs": [
    {
     "name": "stdout",
     "output_type": "stream",
     "text": [
      "WARNING:tensorflow:From <ipython-input-25-ef7dcd1936e3>:12: Sequential.predict_classes (from tensorflow.python.keras.engine.sequential) is deprecated and will be removed after 2021-01-01.\n",
      "Instructions for updating:\n",
      "Please use instead:* `np.argmax(model.predict(x), axis=-1)`,   if your model does multi-class classification   (e.g. if it uses a `softmax` last-layer activation).* `(model.predict(x) > 0.5).astype(\"int32\")`,   if your model does binary classification   (e.g. if it uses a `sigmoid` last-layer activation).\n",
      "[3]\n"
     ]
    }
   ],
   "source": [
    "from keras.models import load_model\n",
    "\n",
    "from PIL import Image\n",
    "import numpy as np\n",
    "\n",
    "img = np.resize(Image.open(\"./test.png\").convert(\"L\"), (1, 784))\n",
    "\n",
    "test_data = ((np.array(img) / 255) - 1) * -1\n",
    "\n",
    "model = load_model(\"./mnist_dl.h5\")\n",
    "\n",
    "pred = model.predict_classes(test_data)\n",
    "\n",
    "print(pred)"
   ]
  }
 ],
 "metadata": {
  "kernelspec": {
   "display_name": "Python 3",
   "language": "python",
   "name": "python3"
  },
  "language_info": {
   "codemirror_mode": {
    "name": "ipython",
    "version": 3
   },
   "file_extension": ".py",
   "mimetype": "text/x-python",
   "name": "python",
   "nbconvert_exporter": "python",
   "pygments_lexer": "ipython3",
   "version": "3.8.1"
  }
 },
 "nbformat": 4,
 "nbformat_minor": 4
}
